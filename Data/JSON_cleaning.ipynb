{
 "cells": [
  {
   "cell_type": "code",
   "execution_count": 32,
   "metadata": {},
   "outputs": [],
   "source": [
    "import json\n",
    "ontario_geo = open(\"/Users/hadi/Documents/Professional_development/DS/INSIGHT/Project/Data/Data_pro/toronto_crs84_V2.geojson.txt\",\"r\")\n",
    "values=json.load(ontario_geo)\n",
    "\n",
    "# print(values['features'])\n",
    "\n",
    "for criteria in values['features']:\n",
    "    criteria['properties']['AREA_NAME'] = criteria['properties']['AREA_NAME'].replace(\" (\",\"\")\n",
    "    criteria['properties']['AREA_NAME'] = criteria['properties']['AREA_NAME'].replace(\")\",\"\")\n",
    "    criteria['properties']['AREA_NAME'] = criteria['properties']['AREA_NAME'].replace(\"'\",\"-\")\n",
    "    criteria['properties']['AREA_NAME'] = criteria['properties']['AREA_NAME'].replace(\".\",\"-\")\n",
    "    criteria['properties']['AREA_NAME'] = criteria['properties']['AREA_NAME'].replace(\" \",\"-\")\n",
    "    criteria['properties']['AREA_NAME'] = ''.join([i for i in criteria['properties']['AREA_NAME'] if not i.isdigit()])\n",
    "with open(\"/Users/hadi/Documents/Professional_development/DS/INSIGHT/Project/Data/Data_pro/toronto_crs84_V2.geojson_new.txt\",\"w\") as fp:\n",
    "    json.dump(values,fp)\n",
    "    "
   ]
  },
  {
   "cell_type": "code",
   "execution_count": 47,
   "metadata": {},
   "outputs": [
    {
     "name": "stdout",
     "output_type": "stream",
     "text": [
      "['Agincourt-North', 'Agincourt-South-Malvern-West', 'Alderwood', 'Annex', 'Banbury-Don-Mills', 'Bathurst-Manor', 'Bay-Street-Corridor', 'Bayview-Village', 'Bayview-Woods-Steeles', 'Bedford-Park-Nortown', 'Beechborough-Greenbrook', 'Bendale', 'Birchcliffe-Cliffside', 'Black-Creek', 'Blake-Jones', 'Briar-Hill-Belgravia', 'Bridle-Path-Sunnybrook-York-Mills', 'Broadview-North', 'Brookhaven-Amesbury', 'Cabbagetown-South-St-James-Town', 'Caledonia-Fairbank', 'Casa-Loma', 'Centennial-Scarborough', 'Church-Yonge-Corridor', 'Clairlea-Birchmount', 'Clanton-Park', 'Cliffcrest', 'Danforth', 'Danforth-Village-East-York', 'Don-Valley-Village', 'Dorset-Park', 'Dovercourt-Wallace-Emerson-Junction', 'Downsview-Roding-CFB', 'Dufferin-Grove', 'East-End-Danforth', 'East-York', 'Edenbridge-Humber-Valley', 'Eglinton-East', 'Elms-Old-Rexdale', 'Englemount-Lawrence', 'Eringate-Centennial-West-Deane', 'Etobicoke-West-Mall', 'Flemingdon-Park', 'Flemingdon-Park', 'Forest-Hill-North', 'Forest-Hill-South', 'Glenfield-Jane-Heights', 'Greenwood-Coxwell', 'Guildwood', 'Henry-Farm', 'High-Park-North', 'High-Park-Swansea', 'Highland-Creek', 'Hillcrest-Village', 'Humber-Heights', 'Humber-Summit', 'Humbermede', 'Humewood-Cedarvale', 'Ionview', 'Islington-City-Centre-West', 'Junction-Area', 'Keelesdale-Eglinton-West', 'Kennedy-Park', 'Kensington-Chinatown', 'Kingsview-Village-The-Westway', 'Kingsway-South', 'L-Amoreaux', 'Lambton-Baby-Point', 'Lansing-Westgate', 'Lawrence-Park-North', 'Lawrence-Park-South', 'Leaside-Bennington', 'Little-Portugal', 'Long-Branch', 'Malvern', 'Maple-Leaf', 'Markland-Wood', 'Milliken', 'Mimicoincludes-Humber-Bay-Shores', 'Morningside', 'Moss-Park', 'Mount-Dennis', 'Mount-Olive-Silverstone-Jamestown', 'Mount-Pleasant-East', 'Mount-Pleasant-West', 'New-Toronto', 'Newtonbrook-East', 'Newtonbrook-West', 'Niagara', 'North-Riverdale', 'North-St-James-Town', 'O-Connor-Parkview', 'Oakridge', 'Oakwood-Vaughan', 'Palmerston-Little-Italy', 'Parkwoods-Donalda', 'Pelmo-Park-Humberlea', 'Playter-Estates-Danforth', 'Pleasant-View', 'Princess-Rosethorn', 'Regent-Park', 'Rexdale-Kipling', 'Rockcliffe-Smythe', 'Roncesvalles', 'Rosedale-Moore-Park', 'Rouge', 'Runnymede-Bloor-West-Village', 'Rustic', 'SScarborough-Village', 'South-Parkdale', 'South-Riverdale', 'St-Andrew-Windfields', 'Steeles', 'Stonegate-Queensway', 'Tam-O-Shanter-Sullivan', 'Taylor-Massey', 'The-Beaches', 'Thistletown-Beaumonde-Heights', 'Thorncliffe-Park', 'Trinity-Bellwoods', 'University', 'Victoria-Village', 'Waterfront-Communities', 'West-Hill', 'West-Humber-Clairville', 'Westminster-Branson', 'Weston', 'Weston-Pellam-Park', 'Wexford-Maryvale', 'Willowdale-East', 'Willowdale-West', 'Willowridge-Martingrove-Richview', 'Woburn', 'Woodbine-Corridor', 'Woodbine-Lumsden', 'Wychwood', 'Yonge-Eglinton', 'Yonge-St-Clair', 'York-University-Heights', 'Yorkdale-Glen-Park']\n"
     ]
    }
   ],
   "source": [
    "ontario_geo_new = open(\"/Users/hadi/Documents/Professional_development/DS/INSIGHT/Project/Data/Data_pro/toronto_crs84_V2.geojson_new.txt\",\"r\")\n",
    "values=json.load(ontario_geo_new)\n",
    "neighb_list=list()\n",
    "for criteria_new in values['features']:\n",
    "    neighb_list.append(criteria_new['properties']['AREA_NAME'])\n",
    "neighb_list_sorted=sorted(neighb_list)\n",
    "print(neighb_list_sorted)\n",
    "import pandas as pd\n",
    "Neighb_sorted = pd.DataFrame(neighb_list_sorted)\n",
    "Neighb_sorted.to_csv('Json_cleaned_neighb.csv')\n",
    "# with open('neighborhoods','w'):\n",
    "#     for item in neighb_list_sorted:\n",
    "        "
   ]
  },
  {
   "cell_type": "code",
   "execution_count": null,
   "metadata": {},
   "outputs": [],
   "source": []
  }
 ],
 "metadata": {
  "kernelspec": {
   "display_name": "Python 3",
   "language": "python",
   "name": "python3"
  },
  "language_info": {
   "codemirror_mode": {
    "name": "ipython",
    "version": 3
   },
   "file_extension": ".py",
   "mimetype": "text/x-python",
   "name": "python",
   "nbconvert_exporter": "python",
   "pygments_lexer": "ipython3",
   "version": "3.7.1"
  }
 },
 "nbformat": 4,
 "nbformat_minor": 2
}
