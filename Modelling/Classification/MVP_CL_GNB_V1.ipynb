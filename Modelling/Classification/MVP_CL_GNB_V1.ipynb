{
 "cells": [
  {
   "cell_type": "markdown",
   "metadata": {},
   "source": [
    "## Imports"
   ]
  },
  {
   "cell_type": "code",
   "execution_count": null,
   "metadata": {},
   "outputs": [],
   "source": [
    "import numpy\n",
    "import pandas as pd\n",
    "from sklearn.naive_bayes import GaussianNB\n",
    "from sklearn.preprocessing import LabelEncoder\n",
    "import pickle\n",
    "import os\n",
    "from sklearn.model_selection import train_test_split\n",
    "from sklearn.model_selection import StratifiedShuffleSplit\n",
    "from sklearn.preprocessing import StandardScaler\n",
    "\n",
    "# Over-sampling for imbalance problem\n",
    "from imblearn.over_sampling import SMOTE, ADASYN\n",
    "from collections import Counter\n",
    "\n",
    "#SVM\n",
    "from sklearn.svm import LinearSVC"
   ]
  },
  {
   "cell_type": "markdown",
   "metadata": {},
   "source": [
    "## Pre-process data"
   ]
  },
  {
   "cell_type": "code",
   "execution_count": 2,
   "metadata": {},
   "outputs": [
    {
     "name": "stdout",
     "output_type": "stream",
     "text": [
      "[(1, 167), (2, 167), (3, 167), (4, 167)]\n",
      "67\n"
     ]
    },
    {
     "name": "stderr",
     "output_type": "stream",
     "text": [
      "/anaconda3/lib/python3.7/site-packages/sklearn/utils/validation.py:724: DataConversionWarning: A column-vector y was passed when a 1d array was expected. Please change the shape of y to (n_samples, ), for example using ravel().\n",
      "  y = column_or_1d(y, warn=True)\n"
     ]
    }
   ],
   "source": [
    "os.chdir('/Users/hadi/Documents/Professional_development/DS/INSIGHT/Project/Data/Data_pro')\n",
    "raw_data=pd.read_csv('Data_All_sorted_alpha_MVP_V7_2.csv')\n",
    "\n",
    "#raw_data.index = raw_data.Neighbourhood\n",
    "\n",
    "Y = pd.DataFrame(raw_data['Label'])\n",
    "\n",
    "# Features selections\n",
    "# options -: All fesstures:\n",
    "# X = pd.DataFrame(raw_data[['Home price','Change in housing pricing','Low income population',\\\n",
    "#                              'Change in low income pop','Total Area','Total Population',\\\n",
    "#                              'Pop  25 - 34 years','Recent Immigrants','TTC Stops','Health Providers','Businesses',\\\n",
    "#                              'Social Housing Units','Rent Bank Applicants']])\n",
    "\n",
    "# options -2: Higher correlation features\n",
    "X = pd.DataFrame(raw_data[['Home price','Change in housing pricing','Low income population',\\\n",
    "                             'Change in low income pop','Total Population',\\\n",
    "                             'Pop  25 - 34 years','TTC Stops','Health Providers','Businesses',\\\n",
    "                             'Social Housing Units']])\n",
    "\n",
    "# options -3: Highest correlation features\n",
    "# X = pd.DataFrame(raw_data[['Change in low income pop',\\\n",
    "#                          'Pop  25 - 34 years','Businesses',\\\n",
    "#                         'Social Housing Units']])\n",
    "\n",
    "\n",
    "# Resampling for imbalance\n",
    "X_resampled, y_resampled = SMOTE().fit_resample(X, Y)\n",
    "print(sorted(Counter(y_resampled).items()))\n",
    "\n",
    "\n",
    "#Split Test Train Data\n",
    "#Method -1: None Stratified\n",
    "    #if original data:\n",
    "#X_train, X_test, Y_train, Y_test = train_test_split(X, Y, test_size = 0.1, random_state = 44)\n",
    "\n",
    "    #if resampled data:\n",
    "X_train, X_test, Y_train, Y_test = train_test_split(X_resampled, y_resampled, test_size = 0.1, random_state = 44)\n",
    "\n",
    "# #Method -2 : Stratified\n",
    "# split = StratifiedShuffleSplit(n_splits=1, test_size=.15, random_state=44) # split is to classify for stratify\n",
    "# for train_index, test_index in split.split(raw_data, raw_data[['Label']]):  # column to use to stratify\n",
    "#     X_train = X.loc[train_index]\n",
    "#     X_test = X.loc[test_index]\n",
    "#     Y_train = Y.loc[train_index]\n",
    "#     Y_test = Y.loc[test_index]\n",
    "\n",
    "# encode class values as integers\n",
    "# encoder = LabelEncoder()\n",
    "# encoder.fit(Y_train)\n",
    "# encoded_Y_train = encoder.transform(Y_train)\n",
    "# # convert integers to dummy variables (i.e. one hot encoded)\n",
    "# dummy_Y_train = np_utils.to_categorical(encoded_Y_train)\n",
    "\n",
    "# encoder.fit(Y_test)\n",
    "# encoded_Y_test= encoder.transform(Y_test)\n",
    "# # convert integers to dummy variables (i.e. one hot encoded)\n",
    "# dummy_Y_test= np_utils.to_categorical(encoded_Y_test)\n",
    "\n",
    "#Standardize the Data\n",
    "# X_train = pd.DataFrame(StandardScaler().fit_transform(X_train)) \n",
    "# X_test = pd.DataFrame(StandardScaler().fit_transform(X_test))\n",
    "print(len(Y_test))\n"
   ]
  },
  {
   "cell_type": "markdown",
   "metadata": {},
   "source": [
    "## Modeling"
   ]
  },
  {
   "cell_type": "code",
   "execution_count": 3,
   "metadata": {},
   "outputs": [],
   "source": [
    "# Gaussian Naive Bayes Modelling \n",
    "\n",
    "# define model\n",
    "model = GaussianNB(priors=None, var_smoothing=1e-09)\n",
    "#from sklearn.utils.validation import column_or_1d\n",
    "#dummy_Y_train = column_or_1d(Y_train, warn=True)\n",
    "\n",
    "#if original data be used:\n",
    "#model.fit(X_train, Y_train.values.ravel())\n",
    "\n",
    "#if resampled data used: (output is np.array)\n",
    "model.fit(X_train, Y_train)\n",
    "\n",
    "# # save the model to disk\n",
    "predictive_model_Gau = 'finalized_Gau_model_CL.sav'\n",
    "pickle.dump(model, open(predictive_model_Gau, 'wb'))    "
   ]
  },
  {
   "cell_type": "markdown",
   "metadata": {},
   "source": [
    "## Validation "
   ]
  },
  {
   "cell_type": "code",
   "execution_count": 4,
   "metadata": {},
   "outputs": [
    {
     "name": "stdout",
     "output_type": "stream",
     "text": [
      "0.5522388059701493\n",
      "[3 3 2 1 1 2 1 1 4 4 1 1 1 1 1 4 1 3 1 3 1 1 4 1 4 2 3 3 3 1 1 1 1 3 1 1 1\n",
      " 3 3 1 1 4 1 3 1 2 3 4 4 2 4 4 3 1 4 1 3 3 1 3 3 3 4 2 4 4 1]\n"
     ]
    }
   ],
   "source": [
    "# load the model from disk\n",
    "loaded_model = pickle.load(open('finalized_Gau_model_CL.sav', 'rb'))\n",
    "y_pred_Gau= loaded_model.predict(X_test)\n",
    "\n",
    "from sklearn.metrics import accuracy_score\n",
    "print(accuracy_score(Y_test,y_pred_Gau))\n",
    "\n",
    "import matplotlib.pyplot as plt\n",
    "from sklearn.metrics import confusion_matrix\n",
    "mat=confusion_matrix(Y_test,y_pred_Gau)\n",
    "\n",
    "print(Y_test)"
   ]
  },
  {
   "cell_type": "code",
   "execution_count": 5,
   "metadata": {},
   "outputs": [
    {
     "data": {
      "text/plain": [
       "Text(89.18, 0.5, 'True Value')"
      ]
     },
     "execution_count": 5,
     "metadata": {},
     "output_type": "execute_result"
    },
    {
     "data": {
      "image/png": "[encoded data removed]",
      "text/plain": [
       "<Figure size 432x288 with 1 Axes>"
      ]
     },
     "metadata": {},
     "output_type": "display_data"
    }
   ],
   "source": [
    "import seaborn as sns; sns.set()\n",
    "sns.heatmap(mat, square=True, annot=True, cbar=False)\n",
    "plt.xlabel('Predicted Value')\n",
    "plt.ylabel('True Value')"
   ]
  },
  {
   "cell_type": "markdown",
   "metadata": {},
   "source": [
    "### Trying Cross-Validation"
   ]
  },
  {
   "cell_type": "code",
   "execution_count": null,
   "metadata": {},
   "outputs": [],
   "source": [
    "from sklearn import model_selection\n",
    "from sklearn.model_selection import cross_validate\n",
    "from sklearn.model_selection import LeaveOneOut\n",
    "\n",
    "#from sklearn import cross_validation\n",
    "#sklearn.model_selection.cross_val_score\n",
    "scores=model_selection.cross_val_score(model, X_train, Y_train, cv=cross_validation.LeaveOneOut(1))\n",
    "scores"
   ]
  },
  {
   "cell_type": "markdown",
   "metadata": {},
   "source": [
    "## Visualisation"
   ]
  },
  {
   "cell_type": "code",
   "execution_count": 6,
   "metadata": {},
   "outputs": [
    {
     "data": {
      "image/png": "[encoded data removed]",
      "text/plain": [
       "<Figure size 432x288 with 2 Axes>"
      ]
     },
     "metadata": {},
     "output_type": "display_data"
    }
   ],
   "source": [
    "import numpy as np\n",
    "rng=np.random.RandomState(0)\n",
    "colors=rng.rand(67)\n",
    "sizes=1000*rng.rand(67)\n",
    "plt.scatter(Y_test,y_pred_Gau, c=colors, s=sizes, alpha=0.5, cmap='viridis')\n",
    "plt.colorbar()\n",
    "plt.xlabel(\"True Values\")\n",
    "plt.ylabel(\"Predictions\")\n",
    "plt.savefig('testplot.png')"
   ]
  },
  {
   "cell_type": "markdown",
   "metadata": {},
   "source": [
    "## Predictions"
   ]
  },
  {
   "cell_type": "code",
   "execution_count": 8,
   "metadata": {
    "scrolled": true
   },
   "outputs": [
    {
     "name": "stdout",
     "output_type": "stream",
     "text": [
      "[1 4 3 4 4 3 4 4 3 3 3 4 3 1 3 3 3 3 3 3 3 3 4 3 3 3 3 3 3 1 3 4 4 3 3 3 3\n",
      " 1 3 1 3 3 1 3 3 4 3 3 3 4 4 3 3 3 3 3 3 3 4 3 3 1 4 1 3 4 3 3 3 3 3 3 3 4\n",
      " 3 3 4 4 3 4 1 1 3 4 3 3 3 4 3 4 3 1 1 3 1 3 3 3 4 3 1 3 4 4 3 3 3 4 4 3 1\n",
      " 3 1 3 3 1 3 3 3 4 1 4 1 2 3 4 4 3 1 4 3 3 3 3 3 4 3]\n"
     ]
    }
   ],
   "source": [
    "#Load prediction data \n",
    "Test_2016=pd.read_csv('/Users/hadi/Documents/Professional_development/DS/INSIGHT/Project/Data/Data_pro/Data_All_sorted_alpha_MVP_2016_V7_1.csv')\n",
    "Test_2016.index = Test_2016.Neighbourhood\n",
    "Y_2021 = pd.DataFrame(Test_2016['Label'])\n",
    "\n",
    "# Features selections\n",
    "# options -: All fesstures:\n",
    "# X = pd.DataFrame(raw_data[['Home price','Change in housing pricing','Low income population',\\\n",
    "#                              'Change in low income pop','Total Area','Total Population',\\\n",
    "#                              'Pop  25 - 34 years','Recent Immigrants','TTC Stops','Health Providers','Businesses',\\\n",
    "#                              'Social Housing Units','Rent Bank Applicants']])\n",
    "\n",
    "# options -2: Higher correlation features\n",
    "X_2016 = pd.DataFrame(Test_2016[['Home price','Change in housing pricing','Low income population',\\\n",
    "                             'Change in low income pop','Total Population',\\\n",
    "                             'Pop  25 - 34 years','TTC Stops','Health Providers','Businesses',\\\n",
    "                             'Social Housing Units']])\n",
    "\n",
    "# options -3: Highest correlation features\n",
    "# X = pd.DataFrame(raw_data[['Change in low income pop',\\\n",
    "#                          'Pop  25 - 34 years','Businesses',\\\n",
    "#                         'Social Housing Units']])\n",
    "\n",
    "# load the model from disk\n",
    "loaded_model = pickle.load(open('finalized_Gau_model_CL.sav', 'rb'))\n",
    "Y_2021_Gau= loaded_model.predict(X_2016)\n",
    "print(Y_2021_Gau)"
   ]
  }
 ],
 "metadata": {
  "kernelspec": {
   "display_name": "Python 3",
   "language": "python",
   "name": "python3"
  },
  "language_info": {
   "codemirror_mode": {
    "name": "ipython",
    "version": 3
   },
   "file_extension": ".py",
   "mimetype": "text/x-python",
   "name": "python",
   "nbconvert_exporter": "python",
   "pygments_lexer": "ipython3",
   "version": "3.7.1"
  }
 },
 "nbformat": 4,
 "nbformat_minor": 2
}
