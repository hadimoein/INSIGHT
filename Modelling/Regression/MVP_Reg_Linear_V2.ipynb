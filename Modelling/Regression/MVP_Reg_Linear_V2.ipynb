{
 "cells": [
  {
   "cell_type": "markdown",
   "metadata": {},
   "source": [
    "## Imports"
   ]
  },
  {
   "cell_type": "code",
   "execution_count": 103,
   "metadata": {},
   "outputs": [],
   "source": [
    "import numpy as np\n",
    "import pandas as pd\n",
    "from sklearn import model_selection\n",
    "from sklearn.datasets import load_iris\n",
    "from sklearn.ensemble import RandomForestClassifier\n",
    "from sklearn.linear_model import LogisticRegression\n",
    "from sklearn.preprocessing import StandardScaler\n",
    "from sklearn.model_selection import StratifiedShuffleSplit\n",
    "from pandas import DataFrame\n",
    "import pickle\n",
    "import os\n",
    "from sklearn.model_selection import train_test_split\n",
    "import matplotlib.pyplot as plt\n",
    "\n",
    "# LINEAR REG\n",
    "from sklearn.linear_model import LinearRegression\n",
    "from sklearn.linear_model import RidgeCV\n",
    "\n",
    "# Over-sampling for imbalance problem\n",
    "from imblearn.over_sampling import SMOTE, ADASYN\n",
    "from collections import Counter"
   ]
  },
  {
   "cell_type": "markdown",
   "metadata": {},
   "source": [
    "## Pre-process data"
   ]
  },
  {
   "cell_type": "code",
   "execution_count": 111,
   "metadata": {},
   "outputs": [
    {
     "name": "stderr",
     "output_type": "stream",
     "text": [
      "/anaconda3/lib/python3.7/site-packages/imblearn/utils/_validation.py:93: UserWarning: 'y' should be of types ('binary', 'multiclass', 'multilabel-indicator') only. Got continuous instead.\n",
      "  TARGET_KIND, type_of_target(y)))\n",
      "/anaconda3/lib/python3.7/site-packages/sklearn/utils/validation.py:724: DataConversionWarning: A column-vector y was passed when a 1d array was expected. Please change the shape of y to (n_samples, ), for example using ravel().\n",
      "  y = column_or_1d(y, warn=True)\n"
     ]
    }
   ],
   "source": [
    "os.chdir('/Users/hadi/Documents/Professional_development/DS/INSIGHT/Project/Data/Data_pro')\n",
    "raw_data=pd.read_csv('Data_All_sorted_alpha_MVP_V6.csv')\n",
    "\n",
    "#raw_data.index = raw_data.Neighbourhood\n",
    "\n",
    "Y = pd.DataFrame(raw_data['Future_change_low_income_pop'])\n",
    "Y=Y*100\n",
    "\n",
    "# Features selections\n",
    "\n",
    "# options -: All fesstures:\n",
    "# X = pd.DataFrame(raw_data[['Home price','Change in housing pricing','Low income population',\\\n",
    "#                            'Change in low income pop','Total Area','Total Population',\\\n",
    "#                            'Pop  25 - 34 years','Recent Immigrants','TTC Stops','Health Providers','Businesses',\\\n",
    "#                            'Social Housing Units','Rent Bank Applicants']])\n",
    "\n",
    "# options -2: High correlation features\n",
    "X = pd.DataFrame(raw_data[['Home price','Change in housing pricing','Low income population',\\\n",
    "                             'Change in low income pop','Total Population',\\\n",
    "                             'Pop  25 - 34 years','TTC Stops','Health Providers','Businesses',\\\n",
    "                             'Social Housing Units']])\n",
    "\n",
    "# options -3: Highest correlation features\n",
    "# X = pd.DataFrame(raw_data[['Change in low income pop',\\\n",
    "#                            'Pop  25 - 34 years','Businesses',\\\n",
    "#                            'Social Housing Units']])\n",
    "\n",
    "# Resampling for imbalance\n",
    "X_resampled, y_resampled = SMOTE().fit_resample(X, Y)\n",
    "#print(sorted(Counter(y_resampled).items()))\n",
    "\n",
    "#Split Test Train Data\n",
    "    #if original data:\n",
    "#X_train, X_test, Y_train, Y_test = train_test_split(X, Y, test_size = 0.1, random_state = 44)\n",
    "\n",
    "    #if resampled data:\n",
    "X_train, X_test, Y_train, Y_test = train_test_split(X_resampled, y_resampled, test_size = 0.1, random_state = 44)\n",
    "\n",
    "\n",
    "# #Method -2 : Stratified\n",
    "# split = StratifiedShuffleSplit(n_splits=1, test_size=.15, random_state=44) # split is to classify for stratify\n",
    "# for train_index, test_index in split.split(raw_data, raw_data[['Label']]):  # column to use to stratify\n",
    "#     X_train = X.loc[train_index]\n",
    "#     X_test = X.loc[test_index]\n",
    "#     Y_train = Y.loc[train_index]\n",
    "#     Y_test = Y.loc[test_index]\n",
    "\n",
    "#Standardize the Data:\n",
    "#X_train = pd.DataFrame(StandardScaler().fit_transform(X_train)) \n",
    "#X_test = pd.DataFrame(StandardScaler().fit_transform(X_test))\n",
    "\n"
   ]
  },
  {
   "cell_type": "markdown",
   "metadata": {},
   "source": [
    "## Modeling"
   ]
  },
  {
   "cell_type": "code",
   "execution_count": 112,
   "metadata": {},
   "outputs": [
    {
     "data": {
      "text/plain": [
       "LinearRegression(copy_X=True, fit_intercept=True, n_jobs=None, normalize=False)"
      ]
     },
     "execution_count": 112,
     "metadata": {},
     "output_type": "execute_result"
    }
   ],
   "source": [
    "# Linear Modelling \n",
    "\n",
    "#Option-1 :\n",
    "lmodel = LinearRegression()\n",
    "#Option-2 :\n",
    "#lmodel=RidgeCV()\n",
    "lmodel.fit(X_train, Y_train)\n",
    "\n",
    "# save the model to disk\n",
    "# predictive_model_1 = 'finalized_lmodel.sav'\n",
    "# pickle.dump(lmodel, open(predictive_model_1, 'wb'))\n"
   ]
  },
  {
   "cell_type": "markdown",
   "metadata": {},
   "source": [
    "## Predictions"
   ]
  },
  {
   "cell_type": "code",
   "execution_count": 113,
   "metadata": {},
   "outputs": [
    {
     "name": "stdout",
     "output_type": "stream",
     "text": [
      "Error : in 7.555486592609097\n",
      "RMS =12.613427967112845\n",
      "R-Squared-TRAIN =0.37\n",
      "R-Squared-TEST =0.77\n"
     ]
    }
   ],
   "source": [
    "from sklearn import metrics\n",
    "from sklearn.metrics import mean_squared_error\n",
    "y_pred_lm= lmodel.predict(X_test)\n",
    "y_pred_train_lm=lmodel.predict(X_train)\n",
    "\n",
    "Error = np.abs(Y_test - y_pred_lm)#/np.abs(Y_test)\n",
    "print(\"Error : in \"+str(np.mean(Error)))\n",
    "\n",
    "rms_LR = np.sqrt(mean_squared_error(Y_test, y_pred_lm))\n",
    "print(\"RMS =\"+str(rms_LR))\n",
    "\n",
    "rr_TRAIN = metrics.r2_score(Y_train, y_pred_train_lm)\n",
    "rr_TRAIN = round(rr_TRAIN,2)\n",
    "print(\"R-Squared-TRAIN =\"+str(rr_TRAIN))\n",
    "\n",
    "rr_TEST = metrics.r2_score(Y_test, y_pred_lm)\n",
    "rr_TEST = round(rr_TEST,2)\n",
    "print(\"R-Squared-TEST =\"+str(rr_TEST))"
   ]
  },
  {
   "cell_type": "markdown",
   "metadata": {},
   "source": [
    "## Visualisation"
   ]
  },
  {
   "cell_type": "code",
   "execution_count": 96,
   "metadata": {
    "scrolled": true
   },
   "outputs": [
    {
     "data": {
      "image/png": "[encoded data removed]",
      "text/plain": [
       "<Figure size 432x288 with 1 Axes>"
      ]
     },
     "metadata": {
      "needs_background": "light"
     },
     "output_type": "display_data"
    },
    {
     "name": "stdout",
     "output_type": "stream",
     "text": [
      "28\n",
      "[ 0.37876526  0.02123949 -0.45076037 -0.05555881  0.25483138  0.00924145\n",
      " -0.03093507 -0.16299477 -0.19539112 -0.01117241  0.08269536  0.02457477\n",
      "  0.03903554 -0.04236975 -0.06827037 -0.02129834  0.00620754 -0.00146681\n",
      " -0.06294937 -0.04357143 -0.04660491  0.00352334  0.01701088 -0.09061936\n",
      " -0.17077068  0.14156827  0.08425797  0.06509634]\n"
     ]
    },
    {
     "data": {
      "image/png": "[encoded data removed]",
      "text/plain": [
       "<Figure size 432x288 with 1 Axes>"
      ]
     },
     "metadata": {
      "needs_background": "light"
     },
     "output_type": "display_data"
    }
   ],
   "source": [
    "## The line / model\n",
    "plt.scatter(Y_test, y_pred_lm)\n",
    "plt.xlabel(\"True Values\")\n",
    "plt.ylabel(\"Predictions\")\n",
    "plt.savefig('testplot.png')\n",
    "plt.show()\n",
    "print(len(y_pred_lm))\n",
    "print(Y_test)\n",
    "y_pred_lm_4plt = pd.DataFrame(y_pred_lm.tolist())\n",
    "#df['Future_change_low_income_pop'] = pd.DataFrame(y_pred_lm)\n",
    "y_pred_lm_4plt.columns = ['Future_change_low_income_pop']\n",
    "\n",
    "y_test_4plt = pd.DataFrame(Y_test.tolist())\n",
    "#df['Future_change_low_income_pop'] = pd.DataFrame(y_pred_lm)\n",
    "y_test_4plt.columns = ['Future_change_low_income_pop']\n",
    "\n",
    "Data_list=['Data','Data','Data','Data','Data','Data','Data','Data','Data','Data','Data','Data','Data'\\\n",
    "      ,'Data','Data','Data','Data','Data','Data','Data','Data','Data','Data','Data','Data','Data'\\\n",
    "          ,'Data','Data']\n",
    "Coparison=['True','Predicated']\n",
    "pos = np.arange(len(Data_list))\n",
    "bar_width = 0.5\n",
    "PredictoinValues=y_pred_lm_4plt['Future_change_low_income_pop'] #[60,40,70,65,85,90,40,70,65,85,90,40,70,65,85,90,40,70,65,85,90,40,70,65,85,90,100,100]\n",
    "TestValues=y_test_4plt['Future_change_low_income_pop'] #[30,60,70,55,75,90,60,70,55,75,90,60,70,55,75,90,60,70,55,75,90,60,70,55,75,90,20,33]\n",
    "\n",
    "\n",
    "plt.bar(pos,PredictoinValues,bar_width,color='blue',edgecolor='black')\n",
    "plt.bar(pos+bar_width,TestValues,bar_width,color='pink',edgecolor='black')\n",
    "#plt.xticks(pos, Data_list)\n",
    "plt.xlabel('Tested Data', fontsize=12)\n",
    "plt.ylabel('Low income population change', fontsize=12)\n",
    "plt.title('Comaprison between true and predicated value',fontsize=14)\n",
    "plt.legend(Coparison,loc=2)\n",
    "plt.show()\n",
    "\n",
    "# print(y_pred)\n",
    "# print(Y_test)"
   ]
  },
  {
   "cell_type": "code",
   "execution_count": 27,
   "metadata": {},
   "outputs": [
    {
     "name": "stdout",
     "output_type": "stream",
     "text": [
      "RMS =[ 0.85295817  1.90275557  0.8568162   1.45159986  0.8167196   3.21706525\n",
      "  0.5589819  10.77664896  2.19987238  0.46439917  1.42537397  0.57158109\n",
      "  0.95102944  1.05185669 71.52747562  0.84567199  1.11550227  1.4115719\n",
      "  3.3137927   6.69808101  0.43469875  0.54345917  0.21457619  1.20661463\n",
      "  0.45961589  0.72687614  1.27555962  4.72520072]\n",
      "Error Percentage:4.342726958665602\n",
      "95.65727304133439\n",
      "RMS =15.8205967200121\n"
     ]
    },
    {
     "data": {
      "image/png": "[encoded data removed]",
      "text/plain": [
       "<Figure size 432x288 with 1 Axes>"
      ]
     },
     "metadata": {
      "needs_background": "light"
     },
     "output_type": "display_data"
    }
   ],
   "source": [
    "y_pred_lm= lmodel.predict(X_test)\n",
    "# y_pred_LR= LR_model.predict(X_test)\n",
    "# y_pred_lm= pd.DataFrame(y_pred_lm).asarray()\n",
    "\n",
    "\n",
    "rms_LM = np.sqrt(mean_squared_error(Y_test, y_pred_lm))\n",
    "\n",
    "Error_precentage = np.abs(Y_test - y_pred_lm)/np.abs(Y_test)\n",
    "#print(Y_test , y_pred_lm)\n",
    "print(\"RMS =\"+str(Error_precentage))\n",
    "print(\"Error Percentage:\"+str(np.mean(Error_precentage)))\n",
    "print(100-np.mean(Error_precentage))\n",
    "\n",
    "# rms_LR = np.sqrt(mean_squared_error(Y_test, y_pred_LR))\n",
    "\n",
    "print(\"RMS =\"+str(rms_LM))\n",
    "# print(\"RMS =\"+str(rms_LR))\n",
    "\n",
    "\n",
    "## The line / model\n",
    "plt.scatter(Y_test, y_pred_lm)\n",
    "plt.xlabel(\"True Values\")\n",
    "plt.ylabel(\"Predictions\")\n",
    "plt.savefig('testplot.png')\n",
    "\n",
    "\n",
    "# import matplotlib.pyplot as plt\n",
    "# y_pred_lm_4plt = pd.DataFrame(y_pred_lm.tolist())\n",
    "# # df['Future_change_low_income_pop'] = pd.DataFrame(y_pred_lm)\n",
    "# y_pred_lm_4plt.columns = ['Future_change_low_income_pop']\n",
    "\n",
    "# Data_list=['Data','Data','Data','Data','Data','Data','Data','Data','Data','Data','Data','Data','Data','Data','Data'\\\n",
    "#      ,'Data','Data','Data','Data','Data','Data','Data','Data','Data','Data','Data','Data','Data']\n",
    "# Coparison=['True','Predicated']\n",
    "# pos = np.arange(len(Data_list))\n",
    "# bar_width = 0.5\n",
    "# PredictoinValues=y_pred_lm_4plt['Future_change_low_income_pop'] #[60,40,70,65,85,90,40,70,65,85,90,40,70,65,85,90,40,70,65,85,90,40,70,65,85,90,100,100]\n",
    "# TestValues=Y_test['Future_change_low_income_pop'] #[30,60,70,55,75,90,60,70,55,75,90,60,70,55,75,90,60,70,55,75,90,60,70,55,75,90,20,33]\n",
    "\n",
    "# plt.bar(pos,PredictoinValues,bar_width,color='blue',edgecolor='black')\n",
    "# plt.bar(pos+bar_width,TestValues,bar_width,color='pink',edgecolor='black')\n",
    "# plt.xticks(pos, Data_list)\n",
    "# plt.xlabel('Tested Data', fontsize=12)\n",
    "# plt.ylabel('Low income population change', fontsize=12)\n",
    "# plt.title('Comaprison between true and predicated value',fontsize=14)\n",
    "# plt.legend(Coparison,loc=2)\n",
    "# plt.show()\n",
    "\n",
    "# print(y_pred)\n",
    "# print(Y_test)"
   ]
  },
  {
   "cell_type": "code",
   "execution_count": 328,
   "metadata": {},
   "outputs": [
    {
     "ename": "ValueError",
     "evalue": "shape mismatch: objects cannot be broadcast to a single shape",
     "output_type": "error",
     "traceback": [
      "\u001b[0;31m---------------------------------------------------------------------------\u001b[0m",
      "\u001b[0;31mValueError\u001b[0m                                Traceback (most recent call last)",
      "\u001b[0;32m<ipython-input-328-c4c93b19fe20>\u001b[0m in \u001b[0;36m<module>\u001b[0;34m\u001b[0m\n\u001b[1;32m      1\u001b[0m \u001b[0mY_test\u001b[0m\u001b[0;34m[\u001b[0m\u001b[0;34m'Future_change_low_income_pop'\u001b[0m\u001b[0;34m]\u001b[0m\u001b[0;34m\u001b[0m\u001b[0;34m\u001b[0m\u001b[0m\n\u001b[0;32m----> 2\u001b[0;31m \u001b[0mplt\u001b[0m\u001b[0;34m.\u001b[0m\u001b[0mbar\u001b[0m\u001b[0;34m(\u001b[0m\u001b[0mpos\u001b[0m\u001b[0;34m,\u001b[0m\u001b[0mY_test\u001b[0m\u001b[0;34m[\u001b[0m\u001b[0;34m'Future_change_low_income_pop'\u001b[0m\u001b[0;34m]\u001b[0m\u001b[0;34m)\u001b[0m\u001b[0;34m\u001b[0m\u001b[0;34m\u001b[0m\u001b[0m\n\u001b[0m\u001b[1;32m      3\u001b[0m \u001b[0mplt\u001b[0m\u001b[0;34m.\u001b[0m\u001b[0mshow\u001b[0m\u001b[0;34m(\u001b[0m\u001b[0;34m)\u001b[0m\u001b[0;34m\u001b[0m\u001b[0;34m\u001b[0m\u001b[0m\n\u001b[1;32m      4\u001b[0m \u001b[0;34m\u001b[0m\u001b[0m\n\u001b[1;32m      5\u001b[0m \u001b[0mdf\u001b[0m \u001b[0;34m=\u001b[0m \u001b[0mpd\u001b[0m\u001b[0;34m.\u001b[0m\u001b[0mDataFrame\u001b[0m\u001b[0;34m(\u001b[0m\u001b[0my_pred_lm\u001b[0m\u001b[0;34m.\u001b[0m\u001b[0mtolist\u001b[0m\u001b[0;34m(\u001b[0m\u001b[0;34m)\u001b[0m\u001b[0;34m)\u001b[0m\u001b[0;34m\u001b[0m\u001b[0;34m\u001b[0m\u001b[0m\n",
      "\u001b[0;32m/anaconda3/lib/python3.7/site-packages/matplotlib/pyplot.py\u001b[0m in \u001b[0;36mbar\u001b[0;34m(x, height, width, bottom, align, data, **kwargs)\u001b[0m\n\u001b[1;32m   2457\u001b[0m     return gca().bar(\n\u001b[1;32m   2458\u001b[0m         \u001b[0mx\u001b[0m\u001b[0;34m,\u001b[0m \u001b[0mheight\u001b[0m\u001b[0;34m,\u001b[0m \u001b[0mwidth\u001b[0m\u001b[0;34m=\u001b[0m\u001b[0mwidth\u001b[0m\u001b[0;34m,\u001b[0m \u001b[0mbottom\u001b[0m\u001b[0;34m=\u001b[0m\u001b[0mbottom\u001b[0m\u001b[0;34m,\u001b[0m \u001b[0malign\u001b[0m\u001b[0;34m=\u001b[0m\u001b[0malign\u001b[0m\u001b[0;34m,\u001b[0m\u001b[0;34m\u001b[0m\u001b[0;34m\u001b[0m\u001b[0m\n\u001b[0;32m-> 2459\u001b[0;31m         **({\"data\": data} if data is not None else {}), **kwargs)\n\u001b[0m\u001b[1;32m   2460\u001b[0m \u001b[0;34m\u001b[0m\u001b[0m\n\u001b[1;32m   2461\u001b[0m \u001b[0;34m\u001b[0m\u001b[0m\n",
      "\u001b[0;32m/anaconda3/lib/python3.7/site-packages/matplotlib/__init__.py\u001b[0m in \u001b[0;36minner\u001b[0;34m(ax, data, *args, **kwargs)\u001b[0m\n\u001b[1;32m   1808\u001b[0m                         \u001b[0;34m\"the Matplotlib list!)\"\u001b[0m \u001b[0;34m%\u001b[0m \u001b[0;34m(\u001b[0m\u001b[0mlabel_namer\u001b[0m\u001b[0;34m,\u001b[0m \u001b[0mfunc\u001b[0m\u001b[0;34m.\u001b[0m\u001b[0m__name__\u001b[0m\u001b[0;34m)\u001b[0m\u001b[0;34m,\u001b[0m\u001b[0;34m\u001b[0m\u001b[0;34m\u001b[0m\u001b[0m\n\u001b[1;32m   1809\u001b[0m                         RuntimeWarning, stacklevel=2)\n\u001b[0;32m-> 1810\u001b[0;31m             \u001b[0;32mreturn\u001b[0m \u001b[0mfunc\u001b[0m\u001b[0;34m(\u001b[0m\u001b[0max\u001b[0m\u001b[0;34m,\u001b[0m \u001b[0;34m*\u001b[0m\u001b[0margs\u001b[0m\u001b[0;34m,\u001b[0m \u001b[0;34m**\u001b[0m\u001b[0mkwargs\u001b[0m\u001b[0;34m)\u001b[0m\u001b[0;34m\u001b[0m\u001b[0;34m\u001b[0m\u001b[0m\n\u001b[0m\u001b[1;32m   1811\u001b[0m \u001b[0;34m\u001b[0m\u001b[0m\n\u001b[1;32m   1812\u001b[0m         inner.__doc__ = _add_data_doc(inner.__doc__,\n",
      "\u001b[0;32m/anaconda3/lib/python3.7/site-packages/matplotlib/axes/_axes.py\u001b[0m in \u001b[0;36mbar\u001b[0;34m(self, x, height, width, bottom, align, **kwargs)\u001b[0m\n\u001b[1;32m   2249\u001b[0m         x, height, width, y, linewidth = np.broadcast_arrays(\n\u001b[1;32m   2250\u001b[0m             \u001b[0;31m# Make args iterable too.\u001b[0m\u001b[0;34m\u001b[0m\u001b[0;34m\u001b[0m\u001b[0;34m\u001b[0m\u001b[0m\n\u001b[0;32m-> 2251\u001b[0;31m             np.atleast_1d(x), height, width, y, linewidth)\n\u001b[0m\u001b[1;32m   2252\u001b[0m \u001b[0;34m\u001b[0m\u001b[0m\n\u001b[1;32m   2253\u001b[0m         \u001b[0;31m# Now that units have been converted, set the tick locations.\u001b[0m\u001b[0;34m\u001b[0m\u001b[0;34m\u001b[0m\u001b[0;34m\u001b[0m\u001b[0m\n",
      "\u001b[0;32m/anaconda3/lib/python3.7/site-packages/numpy/lib/stride_tricks.py\u001b[0m in \u001b[0;36mbroadcast_arrays\u001b[0;34m(*args, **kwargs)\u001b[0m\n\u001b[1;32m    250\u001b[0m     \u001b[0margs\u001b[0m \u001b[0;34m=\u001b[0m \u001b[0;34m[\u001b[0m\u001b[0mnp\u001b[0m\u001b[0;34m.\u001b[0m\u001b[0marray\u001b[0m\u001b[0;34m(\u001b[0m\u001b[0m_m\u001b[0m\u001b[0;34m,\u001b[0m \u001b[0mcopy\u001b[0m\u001b[0;34m=\u001b[0m\u001b[0;32mFalse\u001b[0m\u001b[0;34m,\u001b[0m \u001b[0msubok\u001b[0m\u001b[0;34m=\u001b[0m\u001b[0msubok\u001b[0m\u001b[0;34m)\u001b[0m \u001b[0;32mfor\u001b[0m \u001b[0m_m\u001b[0m \u001b[0;32min\u001b[0m \u001b[0margs\u001b[0m\u001b[0;34m]\u001b[0m\u001b[0;34m\u001b[0m\u001b[0;34m\u001b[0m\u001b[0m\n\u001b[1;32m    251\u001b[0m \u001b[0;34m\u001b[0m\u001b[0m\n\u001b[0;32m--> 252\u001b[0;31m     \u001b[0mshape\u001b[0m \u001b[0;34m=\u001b[0m \u001b[0m_broadcast_shape\u001b[0m\u001b[0;34m(\u001b[0m\u001b[0;34m*\u001b[0m\u001b[0margs\u001b[0m\u001b[0;34m)\u001b[0m\u001b[0;34m\u001b[0m\u001b[0;34m\u001b[0m\u001b[0m\n\u001b[0m\u001b[1;32m    253\u001b[0m \u001b[0;34m\u001b[0m\u001b[0m\n\u001b[1;32m    254\u001b[0m     \u001b[0;32mif\u001b[0m \u001b[0mall\u001b[0m\u001b[0;34m(\u001b[0m\u001b[0marray\u001b[0m\u001b[0;34m.\u001b[0m\u001b[0mshape\u001b[0m \u001b[0;34m==\u001b[0m \u001b[0mshape\u001b[0m \u001b[0;32mfor\u001b[0m \u001b[0marray\u001b[0m \u001b[0;32min\u001b[0m \u001b[0margs\u001b[0m\u001b[0;34m)\u001b[0m\u001b[0;34m:\u001b[0m\u001b[0;34m\u001b[0m\u001b[0;34m\u001b[0m\u001b[0m\n",
      "\u001b[0;32m/anaconda3/lib/python3.7/site-packages/numpy/lib/stride_tricks.py\u001b[0m in \u001b[0;36m_broadcast_shape\u001b[0;34m(*args)\u001b[0m\n\u001b[1;32m    185\u001b[0m     \u001b[0;31m# use the old-iterator because np.nditer does not handle size 0 arrays\u001b[0m\u001b[0;34m\u001b[0m\u001b[0;34m\u001b[0m\u001b[0;34m\u001b[0m\u001b[0m\n\u001b[1;32m    186\u001b[0m     \u001b[0;31m# consistently\u001b[0m\u001b[0;34m\u001b[0m\u001b[0;34m\u001b[0m\u001b[0;34m\u001b[0m\u001b[0m\n\u001b[0;32m--> 187\u001b[0;31m     \u001b[0mb\u001b[0m \u001b[0;34m=\u001b[0m \u001b[0mnp\u001b[0m\u001b[0;34m.\u001b[0m\u001b[0mbroadcast\u001b[0m\u001b[0;34m(\u001b[0m\u001b[0;34m*\u001b[0m\u001b[0margs\u001b[0m\u001b[0;34m[\u001b[0m\u001b[0;34m:\u001b[0m\u001b[0;36m32\u001b[0m\u001b[0;34m]\u001b[0m\u001b[0;34m)\u001b[0m\u001b[0;34m\u001b[0m\u001b[0;34m\u001b[0m\u001b[0m\n\u001b[0m\u001b[1;32m    188\u001b[0m     \u001b[0;31m# unfortunately, it cannot handle 32 or more arguments directly\u001b[0m\u001b[0;34m\u001b[0m\u001b[0;34m\u001b[0m\u001b[0;34m\u001b[0m\u001b[0m\n\u001b[1;32m    189\u001b[0m     \u001b[0;32mfor\u001b[0m \u001b[0mpos\u001b[0m \u001b[0;32min\u001b[0m \u001b[0mrange\u001b[0m\u001b[0;34m(\u001b[0m\u001b[0;36m32\u001b[0m\u001b[0;34m,\u001b[0m \u001b[0mlen\u001b[0m\u001b[0;34m(\u001b[0m\u001b[0margs\u001b[0m\u001b[0;34m)\u001b[0m\u001b[0;34m,\u001b[0m \u001b[0;36m31\u001b[0m\u001b[0;34m)\u001b[0m\u001b[0;34m:\u001b[0m\u001b[0;34m\u001b[0m\u001b[0;34m\u001b[0m\u001b[0m\n",
      "\u001b[0;31mValueError\u001b[0m: shape mismatch: objects cannot be broadcast to a single shape"
     ]
    },
    {
     "data": {
      "image/png": "[encoded data removed]",
      "text/plain": [
       "<Figure size 432x288 with 1 Axes>"
      ]
     },
     "metadata": {
      "needs_background": "light"
     },
     "output_type": "display_data"
    }
   ],
   "source": [
    "Y_test['Future_change_low_income_pop']\n",
    "plt.bar(pos,Y_test['Future_change_low_income_pop'])\n",
    "plt.show()\n",
    "\n",
    "df = pd.DataFrame(y_pred_lm.tolist())\n",
    "# df['Future_change_low_income_pop'] = pd.DataFrame(y_pred_lm)\n",
    "df.columns = ['Future_change_low_income_pop']\n",
    "plt.bar(pos,df['Future_change_low_income_pop'])"
   ]
  },
  {
   "cell_type": "code",
   "execution_count": null,
   "metadata": {},
   "outputs": [],
   "source": [
    "y_pred_lm"
   ]
  },
  {
   "cell_type": "code",
   "execution_count": null,
   "metadata": {},
   "outputs": [],
   "source": [
    "loaded_model = pickle.load(open('finalized_lmodel.sav', 'rb'))\n",
    "result = loaded_model.score(X_test, Y_test)\n",
    "print(result)\n",
    "\n",
    "os.chdir('/Users/hadi/Documents/Professional_development/DS/INSIGHT/Project/Data/Data_pro')\n",
    "Test_2016=pd.read_csv('Data_All_sorted_alpha_MVP_2016_V6.csv')\n",
    "\n",
    "#print(pd.isna(Test_2016))\n",
    "\n",
    "Test_2016.index = Test_2016.Neighbourhood\n",
    "Y_2016 = pd.DataFrame(Test_2016['Future_change_low_income_pop'])\n",
    "X_2016 = pd.DataFrame(Test_2016[['Home price','Change in housing pricing','Low income population',\\\n",
    "                           'Change in low income pop','Total Area','Total Population',\\\n",
    "                           'Pop  25 - 34 years','Recent Immigrants','TTC Stops','Health Providers','Businesses',\\\n",
    "                           'Social Housing Units','Rent Bank Applicants']])\n",
    "# pd.isna(X_2016)\n",
    "\n",
    "\n",
    "Y_2016 = loaded_model.predict(X_2016)\n",
    "\n",
    "#Y_2016.index = Y_2016.Neighbourhood\n",
    "neighb_name='Agincourt-North'\n",
    "\n",
    "for i in range(0,137):\n",
    "    if Test_2016.index[i]==neighb_name:\n",
    "        indexnumber=i\n",
    "\n",
    "print(Test_2016.index)\n",
    "print(indexnumber)\n",
    "print(Y_2016)\n",
    "print(Y_2016[indexnumber])\n",
    "\n",
    "#print(df.Y_2016[i])\n",
    "\n",
    "from matplotlib import pyplot as plt\n",
    "Goodlm=lm\n",
    "y_pred = Goodlm.predict(X_test)\n",
    "rms = np.sqrt(mean_squared_error(Y_test, y_pred))\n",
    "# print(rms)\n",
    "# print(y_pred)\n",
    "# print(Y_test)\n",
    "\n",
    "Error_precentage = np.abs(Y_test - y_pred_lm)/np.abs(y_pred_lm)\n",
    "print(Error_precentage)\n",
    "\n",
    "\n",
    "## The line / model\n",
    "plt.scatter(Y_test, y_pred)\n",
    "plt.xlabel(\"True Values\")\n",
    "plt.ylabel(\"Predictions\")\n",
    "plt.savefig('testplot.png')\n"
   ]
  },
  {
   "cell_type": "code",
   "execution_count": null,
   "metadata": {},
   "outputs": [],
   "source": [
    "import copy \n",
    "Goodlm=copy.deepcopy(lm)\n",
    "Good_X_train_L_V2=copy.deepcopy(X_train) \n",
    "Good_X_test_L_V2=copy.deepcopy(X_test)\n",
    "Good_Y_train_L_V2=copy.deepcopy(Y_train)  \n",
    "Good_Y_test_L_V2=copy.deepcopy(Y_test)"
   ]
  },
  {
   "cell_type": "code",
   "execution_count": 3,
   "metadata": {},
   "outputs": [
    {
     "ename": "FileNotFoundError",
     "evalue": "[Errno 2] No such file or directory: '/Users/hadi/Documents/Professional development/DS/INSIGHT/Project/Data/Data_pro'",
     "output_type": "error",
     "traceback": [
      "\u001b[0;31m---------------------------------------------------------------------------\u001b[0m",
      "\u001b[0;31mFileNotFoundError\u001b[0m                         Traceback (most recent call last)",
      "\u001b[0;32m<ipython-input-3-b9b114fe70c9>\u001b[0m in \u001b[0;36m<module>\u001b[0;34m\u001b[0m\n\u001b[1;32m      1\u001b[0m \u001b[0;32mimport\u001b[0m \u001b[0mos\u001b[0m\u001b[0;34m\u001b[0m\u001b[0;34m\u001b[0m\u001b[0m\n\u001b[0;32m----> 2\u001b[0;31m \u001b[0mos\u001b[0m\u001b[0;34m.\u001b[0m\u001b[0mchdir\u001b[0m\u001b[0;34m(\u001b[0m\u001b[0;34m'/Users/hadi/Documents/Professional development/DS/INSIGHT/Project/Data/Data_pro'\u001b[0m\u001b[0;34m)\u001b[0m\u001b[0;34m\u001b[0m\u001b[0;34m\u001b[0m\u001b[0m\n\u001b[0m\u001b[1;32m      3\u001b[0m \u001b[0mraw_data\u001b[0m\u001b[0;34m=\u001b[0m\u001b[0mpd\u001b[0m\u001b[0;34m.\u001b[0m\u001b[0mread_csv\u001b[0m\u001b[0;34m(\u001b[0m\u001b[0;34m'Data_All_sorted_alpha_MVP_V5.csv'\u001b[0m\u001b[0;34m)\u001b[0m\u001b[0;34m\u001b[0m\u001b[0;34m\u001b[0m\u001b[0m\n\u001b[1;32m      4\u001b[0m \u001b[0mraw_data\u001b[0m\u001b[0;34m.\u001b[0m\u001b[0mindex\u001b[0m \u001b[0;34m=\u001b[0m \u001b[0mraw_data\u001b[0m\u001b[0;34m.\u001b[0m\u001b[0mNeighbourhood\u001b[0m\u001b[0;34m\u001b[0m\u001b[0;34m\u001b[0m\u001b[0m\n\u001b[1;32m      5\u001b[0m \u001b[0mY\u001b[0m \u001b[0;34m=\u001b[0m \u001b[0mpd\u001b[0m\u001b[0;34m.\u001b[0m\u001b[0mDataFrame\u001b[0m\u001b[0;34m(\u001b[0m\u001b[0mraw_data\u001b[0m\u001b[0;34m[\u001b[0m\u001b[0;34m'Future_change_low_income_pop'\u001b[0m\u001b[0;34m]\u001b[0m\u001b[0;34m)\u001b[0m\u001b[0;34m\u001b[0m\u001b[0;34m\u001b[0m\u001b[0m\n",
      "\u001b[0;31mFileNotFoundError\u001b[0m: [Errno 2] No such file or directory: '/Users/hadi/Documents/Professional development/DS/INSIGHT/Project/Data/Data_pro'"
     ]
    }
   ],
   "source": [
    "import os\n",
    "os.chdir('/Users/hadi/Documents/Professional development/DS/INSIGHT/Project/Data/Data_pro')\n",
    "raw_data=pd.read_csv('Data_All_sorted_alpha_MVP_V5.csv')\n",
    "raw_data.index = raw_data.Neighbourhood\n",
    "Y = pd.DataFrame(raw_data['Future_change_low_income_pop'])\n",
    "Y=Y*100\n",
    "print (Y)\n",
    "X = pd.DataFrame(raw_data[['Home price','Change in housing pricing','Low income population',\\\n",
    "                           'Change in low income pop','Total Area','Total Population',\\\n",
    "                           'Pop  25 - 34 years','Recent Immigrants','TTC Stops','Health Providers','Businesses',\\\n",
    "                           'Social Housing Units','Rent Bank Applicants']])\n",
    "\n",
    "import altair as alt\n",
    "import pandas as pd\n",
    "\n",
    "source = raw_data.Future_change_low_income_pop\n",
    "threshold = pd.DataFrame([{\"threshold\": 10}])\n",
    "\n",
    "bars = alt.Chart(source).mark_bar().encode(x=\"year:O\",y=\"wheat:Q\")\n",
    "\n",
    "highlight = alt.Chart(source).mark_bar(color=\"#e45755\").encode(x='year:O',y='baseline:Q', y2='wheat:Q').transform_filter(alt.datum.wheat > 10).transform_calculate(\"baseline\", \"10\")\n",
    "\n",
    "rule = alt.Chart(threshold).mark_rule().encode(y='threshold:Q')\n",
    "\n",
    "(bars + highlight + rule).properties(width=600)"
   ]
  },
  {
   "cell_type": "code",
   "execution_count": 88,
   "metadata": {},
   "outputs": [
    {
     "name": "stdout",
     "output_type": "stream",
     "text": [
      "[[ 3.15540000e+05  4.97487103e-01  3.22900000e+04  1.96391844e-01\n",
      "   3.28150000e+04  4.45500000e+03  2.29000000e+02  1.21000000e+02\n",
      "   2.29100000e+03  1.24500000e+03  4.00000000e+00]\n",
      " [ 3.75361000e+05  4.81625774e-01  1.44850000e+04 -2.99276260e-02\n",
      "   1.46500000e+04  2.88000000e+03  3.50000000e+01  5.90000000e+01\n",
      "   5.70000000e+02  5.01000000e+02  3.00000000e+00]\n",
      " [ 5.08638000e+05  3.40563648e-01  2.10000000e+04  2.40000880e-02\n",
      "   2.13000000e+04  4.63000000e+03  6.10000000e+01  2.70000000e+01\n",
      "   2.54000000e+02  6.61000000e+02  1.00000000e+00]\n",
      " [ 3.92223000e+05  4.21648973e-01  1.62700000e+04 -1.31140980e-01\n",
      "   1.66050000e+04  3.59500000e+03  4.00000000e+01  3.90000000e+01\n",
      "   6.84000000e+02  8.78000000e+02  2.00000000e+00]\n",
      " [ 2.17258000e+05  3.69796855e-01  2.48000000e+04  7.06488304e-01\n",
      "   2.54900000e+04  3.55000000e+03  1.03000000e+02  8.00000000e+01\n",
      "   8.25000000e+02  5.08000000e+02  4.00000000e+00]\n",
      " [ 2.13308000e+05  3.80821989e-01  1.72700000e+04  1.24336092e-01\n",
      "   1.73250000e+04  2.49500000e+03  6.60000000e+01  4.20000000e+01\n",
      "   4.29000000e+02  5.89000000e+02  3.00000000e+00]\n",
      " [ 3.58120000e+05  3.71224652e-01  2.08750000e+04 -3.25117960e-02\n",
      "   2.10750000e+04  3.13000000e+03  4.00000000e+01  9.00000000e+00\n",
      "   2.55000000e+02  9.66000000e+02  3.00000000e+00]\n",
      " [ 4.86565000e+05  2.81351388e-01  1.31750000e+04 -8.60171860e-02\n",
      "   1.35350000e+04  1.25000000e+03  3.70000000e+01  1.00000000e+01\n",
      "   9.30000000e+01  1.70000000e+02  1.00000000e+00]\n",
      " [ 2.54389000e+05  2.90869142e-01  2.21550000e+04  3.99371120e-02\n",
      "   2.21650000e+04  3.29000000e+03  4.80000000e+01  8.00000000e+00\n",
      "   1.85000000e+02  7.17000000e+02  1.00000000e+00]\n",
      " [ 2.53029000e+05  3.99821861e-01  2.43800000e+04  1.22435900e-03\n",
      "   2.47050000e+04  3.14000000e+03  8.70000000e+01  1.00000000e+01\n",
      "   2.57000000e+02  0.00000000e+00  3.00000000e+00]\n",
      " [ 1.78674000e+05  3.68708921e-01  4.42300000e+04  3.51815670e-01\n",
      "   4.43150000e+04  6.29000000e+03  1.81000000e+02  7.30000000e+01\n",
      "   6.65000000e+02  9.27000000e+02  4.00000000e+00]\n",
      " [ 3.71170000e+05  4.23842076e-01  1.40000000e+04 -2.46134870e-02\n",
      "   1.40750000e+04  2.27500000e+03  4.40000000e+01  2.30000000e+01\n",
      "   3.15000000e+02  9.19000000e+02  3.00000000e+00]\n",
      " [ 3.00303000e+05  3.20106029e-01  1.62900000e+04  7.01754290e-02\n",
      "   1.66150000e+04  2.07500000e+03  2.90000000e+01  2.40000000e+01\n",
      "   2.28000000e+02  9.22000000e+02  3.00000000e+00]\n",
      " [ 2.90052000e+05  3.39410396e-01  1.19950000e+04 -7.40895840e-02\n",
      "   1.20150000e+04  1.92000000e+03  3.20000000e+01  6.00000000e+00\n",
      "   1.78000000e+02  6.95000000e+02  3.00000000e+00]\n",
      " [ 2.87985000e+05  4.40825516e-01  2.11700000e+04 -1.41667720e-01\n",
      "   2.16550000e+04  2.43500000e+03  9.60000000e+01  2.30000000e+01\n",
      "   3.50000000e+02  8.68000000e+02  2.00000000e+00]\n",
      " [ 2.53034000e+05  4.88321481e-01  1.77300000e+04  3.30295580e-02\n",
      "   1.77450000e+04  2.18000000e+03  8.40000000e+01  1.70000000e+01\n",
      "   3.61000000e+02  6.94000000e+02  3.00000000e+00]\n",
      " [ 4.10468000e+05  4.75760408e-01  2.50000000e+04  5.62000680e-02\n",
      "   2.54350000e+04  2.79000000e+03  1.25000000e+02  6.50000000e+01\n",
      "   7.35000000e+02  3.04000000e+02  3.00000000e+00]\n",
      " [ 1.83299000e+05  3.86098109e-01  9.42000000e+03 -3.76437300e-03\n",
      "   9.44000000e+03  1.28500000e+03  2.90000000e+01  1.00000000e+00\n",
      "   7.00000000e+01  5.71000000e+02  3.00000000e+00]\n",
      " [ 2.78362000e+05  2.73892171e-01  1.25050000e+04  9.29713700e-03\n",
      "   1.25300000e+04  1.55500000e+03  1.03000000e+02  1.40000000e+01\n",
      "   1.37300000e+03  1.24000000e+02  2.00000000e+00]\n",
      " [ 8.85067000e+05  3.39178367e-01  1.15300000e+04  2.69395930e-02\n",
      "   1.16550000e+04  2.48000000e+03  2.80000000e+01  5.60000000e+01\n",
      "   4.68000000e+02  0.00000000e+00  3.00000000e+00]\n",
      " [ 2.97050000e+05  2.65415664e-01  2.25200000e+04 -2.31924610e-02\n",
      "   2.28300000e+04  2.93500000e+03  6.10000000e+01  1.90000000e+01\n",
      "   2.96000000e+02  8.65000000e+02  3.00000000e+00]\n",
      " [ 3.33031000e+05  2.91208195e-01  1.32800000e+04 -2.02329980e-02\n",
      "   1.35050000e+04  1.99000000e+03  5.60000000e+01  7.00000000e+00\n",
      "   2.01000000e+02  1.46400000e+03  3.00000000e+00]\n",
      " [ 4.35438000e+05  4.92616410e-01  1.59250000e+04  2.09991490e-02\n",
      "   1.59800000e+04  1.38500000e+03  5.90000000e+01  1.00000000e+01\n",
      "   3.45000000e+02  8.90000000e+01  3.00000000e+00]\n",
      " [ 6.80867000e+05  2.96410469e-01  1.45100000e+04  4.19030470e-02\n",
      "   1.45400000e+04  1.34500000e+03  5.50000000e+01  5.40000000e+01\n",
      "   3.81000000e+02  1.10000000e+02  2.00000000e+00]\n",
      " [ 3.18426000e+05  4.97995935e-01  1.13550000e+04 -1.80086015e-01\n",
      "   1.15900000e+04  2.02500000e+03  3.60000000e+01  1.00000000e+01\n",
      "   1.28000000e+02  2.38000000e+02  1.00000000e+00]\n",
      " [ 6.11921000e+05  3.71980189e-01  4.49450000e+04  1.28999304e-01\n",
      "   4.50250000e+04  9.83500000e+03  6.10000000e+01  6.40000000e+01\n",
      "   8.49000000e+02  2.08000000e+02  4.00000000e+00]\n",
      " [ 6.70860000e+05  3.03086103e-01  2.29400000e+04  5.82873240e-02\n",
      "   2.31850000e+04  2.14500000e+03  7.50000000e+01  5.00000000e+01\n",
      "   6.76000000e+02  2.36000000e+02  4.00000000e+00]\n",
      " [ 3.17670000e+05  4.19620952e-01  2.03300000e+04  1.88477128e-01\n",
      "   2.11250000e+04  2.76000000e+03  7.80000000e+01  9.00000000e+00\n",
      "   1.85000000e+02  1.70200000e+03  4.00000000e+00]]\n"
     ]
    }
   ],
   "source": [
    "print(X_test)"
   ]
  },
  {
   "cell_type": "code",
   "execution_count": 92,
   "metadata": {},
   "outputs": [
    {
     "name": "stdout",
     "output_type": "stream",
     "text": [
      "           0         1        2         3        4        5      6      7   \\\n",
      "0    234855.0  0.383812  29880.0  0.000369  30160.0   3920.0   90.0   17.0   \n",
      "1    245759.0  0.364585  21370.0 -0.038545  21565.0   2850.0  121.0   79.0   \n",
      "2    252745.0  0.433282  11635.0 -0.012767  11655.0   1370.0   56.0   12.0   \n",
      "3    592630.0  0.457992  26020.0  0.174658  27480.0   6760.0   86.0  192.0   \n",
      "4    410468.0  0.475760  25000.0  0.056200  25435.0   2790.0  125.0   65.0   \n",
      "5    308347.0  0.453391  14430.0 -0.013386  14945.0   1900.0   60.0   44.0   \n",
      "6    563035.0  0.766678  14930.0  0.013973  15320.0   5060.0  103.0  179.0   \n",
      "7    401024.0  0.366453  15265.0  0.116361  15370.0   2545.0   44.0  128.0   \n",
      "8    379728.0  0.374357  12945.0 -0.201575  13295.0   1170.0   45.0   10.0   \n",
      "9    514824.0  0.437879  21785.0  0.043075  21960.0   2195.0   76.0   45.0   \n",
      "10   248970.0  0.419271   6280.0 -0.036953   6530.0    895.0   26.0    8.0   \n",
      "11   217258.0  0.369797  24800.0  0.706488  25490.0   3550.0  103.0   80.0   \n",
      "12   287985.0  0.440826  21170.0 -0.141668  21655.0   2435.0   96.0   23.0   \n",
      "13   178897.0  0.401399  21550.0 -0.075434  21715.0   2985.0   85.0   34.0   \n",
      "14   300079.0  0.423991   7685.0  0.024651  11890.0   1895.0   21.0   10.0   \n",
      "15   245574.0  0.375295  14190.0  0.134737  14200.0   2280.0   31.0   35.0   \n",
      "16   758799.0  0.647353   7600.0  0.004259   8210.0    425.0   73.0    7.0   \n",
      "17   318426.0  0.497996  11355.0 -0.180086  11590.0   2025.0   36.0   10.0   \n",
      "18   213308.0  0.380822  17270.0  0.124336  17325.0   2495.0   66.0   42.0   \n",
      "19   262130.0  0.430856  10245.0 -0.044676  10280.0   1585.0   35.0    1.0   \n",
      "20   683240.0  0.622778   9760.0  0.101197   9810.0   1635.0   45.0   96.0   \n",
      "21   223897.0  0.413411  12325.0 -0.065695  12450.0   1220.0   46.0    5.0   \n",
      "22   420264.0  0.418766  23535.0  0.202059  24370.0   7185.0   62.0   78.0   \n",
      "23   228647.0  0.428481  19510.0 -0.093170  19855.0   2610.0  130.0   13.0   \n",
      "24   335547.0  0.451121  13670.0  0.014497  13735.0   1860.0   50.0   41.0   \n",
      "25   234310.0  0.425798  14375.0 -0.058749  14530.0   1360.0   67.0    9.0   \n",
      "26   253212.0  0.415858  14260.0 -0.065932  14415.0   2320.0   49.0   56.0   \n",
      "27   268875.0  0.455857   9495.0  0.030700   5450.0    850.0   24.0   55.0   \n",
      "28   276812.0  0.461528  16445.0 -0.007885  16500.0   2500.0   66.0   32.0   \n",
      "29   291089.0  0.411211  26380.0  0.063369  26640.0   4035.0   45.0   50.0   \n",
      "..        ...       ...      ...       ...      ...      ...    ...    ...   \n",
      "244  455908.0  0.452131  19685.0 -0.075206  21245.0   4795.0   40.0   14.0   \n",
      "245  432851.0  0.424072  24770.0  0.058980  25640.0   4645.0  109.0   36.0   \n",
      "246  689617.0  0.389598  17890.0 -0.020600  17955.0   1740.0  151.0   34.0   \n",
      "247  333901.0  0.319616  24695.0 -0.011172  25010.0   3185.0   80.0    9.0   \n",
      "248  458574.0  0.318837  24540.0  0.023051  24690.0   2845.0  106.0   66.0   \n",
      "249  314609.0  0.286055  27020.0 -0.030992  27390.0   3270.0   55.0   59.0   \n",
      "250  537403.0  0.371069  20940.0  0.017796  21135.0   2580.0   44.0   24.0   \n",
      "251  313783.0  0.263405   9990.0 -0.003080  10140.0   1275.0   45.0   14.0   \n",
      "252  290384.0  0.274279  19105.0  0.095677  19225.0   3105.0   62.0   18.0   \n",
      "253  541819.0  0.381405  16505.0 -0.055559  16805.0   4075.0   41.0   34.0   \n",
      "254  665579.0  0.362161   6595.0  0.069521   7790.0   1945.0   45.0   59.0   \n",
      "255  323910.0  0.315451  16860.0 -0.558043  17180.0   2380.0   73.0    9.0   \n",
      "256  521521.0  0.392125  43150.0  1.012227  43365.0  17275.0   90.0   40.0   \n",
      "257  230322.0  0.244829  26260.0 -0.368817  26550.0   3060.0   80.0   33.0   \n",
      "258  259793.0  0.292020  33330.0  0.031983  34100.0   5115.0  338.0  101.0   \n",
      "259  372816.0  0.278615  25370.0 -0.018466  25445.0   3480.0   36.0    5.0   \n",
      "260  267516.0  0.248849  17910.0  0.041881  18170.0   2825.0   75.0   49.0   \n",
      "261  290052.0  0.339410  11995.0 -0.074090  12015.0   1920.0   32.0    6.0   \n",
      "262  323090.0  0.278592  26715.0  0.035477  27020.0   3190.0  182.0   64.0   \n",
      "263  611921.0  0.371980  44945.0  0.128999  45025.0   9835.0   61.0   64.0   \n",
      "264  509686.0  0.319411  14970.0  0.029722  15005.0   2655.0   25.0   31.0   \n",
      "265  346289.0  0.270967  21430.0 -0.245047  21345.0   2340.0   81.0   31.0   \n",
      "266  265054.0  0.283660  53010.0 -0.027683  53350.0   7660.0  139.0   93.0   \n",
      "267  390980.0  0.381897  11675.0  0.000468  11705.0   1670.0   35.0   11.0   \n",
      "268  334833.0  0.364716   7805.0 -0.030693   7825.0   1110.0   39.0    1.0   \n",
      "269  471161.0  0.340311  12785.0 -0.032147  13985.0   2095.0   62.0   35.0   \n",
      "270  656205.0  0.358656  10560.0  0.043960  10580.0   2135.0   67.0   62.0   \n",
      "271  885067.0  0.339178  11530.0  0.026940  11655.0   2480.0   28.0   56.0   \n",
      "272  298296.0  0.311768  27275.0  0.044636  27715.0   4935.0  235.0   67.0   \n",
      "273  354842.0  0.340088  13820.0 -0.040818  14685.0   1785.0  155.0   46.0   \n",
      "\n",
      "         8       9    10  \n",
      "0     295.0    77.0  3.0  \n",
      "1    1399.0   170.0  3.0  \n",
      "2     312.0    85.0  3.0  \n",
      "3    2322.0  1065.0  4.0  \n",
      "4     735.0   304.0  3.0  \n",
      "5     259.0   385.0  3.0  \n",
      "6    4194.0   520.0  4.0  \n",
      "7     433.0   122.0  2.0  \n",
      "8      95.0   170.0  2.0  \n",
      "9     659.0   236.0  4.0  \n",
      "10    142.0   440.0  3.0  \n",
      "11    825.0   508.0  4.0  \n",
      "12    350.0   868.0  2.0  \n",
      "13    343.0  1432.0  3.0  \n",
      "14    139.0  1052.0  3.0  \n",
      "15    467.0   328.0  3.0  \n",
      "16     58.0     0.0  4.0  \n",
      "17    128.0   238.0  1.0  \n",
      "18    429.0   589.0  3.0  \n",
      "19     96.0   294.0  3.0  \n",
      "20    284.0   113.0  4.0  \n",
      "21    125.0   139.0  3.0  \n",
      "22   2492.0  3702.0  4.0  \n",
      "23    817.0   272.0  3.0  \n",
      "24    344.0   549.0  2.0  \n",
      "25    214.0   497.0  3.0  \n",
      "26    415.0    46.0  2.0  \n",
      "27    413.0   715.0  3.0  \n",
      "28    156.0   287.0  3.0  \n",
      "29    367.0   156.0  3.0  \n",
      "..      ...     ...  ...  \n",
      "244   564.0  1545.0  3.0  \n",
      "245  1197.0  1313.0  4.0  \n",
      "246   591.0     0.0  2.0  \n",
      "247   237.0     0.0  3.0  \n",
      "248   595.0   129.0  3.0  \n",
      "249   343.0   985.0  3.0  \n",
      "250   531.0   193.0  3.0  \n",
      "251   217.0   447.0  3.0  \n",
      "252   449.0   551.0  4.0  \n",
      "253   715.0    42.0  2.0  \n",
      "254   483.0   359.0  3.0  \n",
      "255   431.0   891.0  3.0  \n",
      "256  2899.0  3990.0  4.0  \n",
      "257   424.0  2089.0  1.0  \n",
      "258  2463.0   952.0  3.0  \n",
      "259    83.0   530.0  3.0  \n",
      "260   536.0  1048.0  3.0  \n",
      "261   178.0   695.0  3.0  \n",
      "262   945.0   578.0  4.0  \n",
      "263   849.0   208.0  4.0  \n",
      "264   363.0   527.0  3.0  \n",
      "265   169.0   561.0  2.0  \n",
      "266  1073.0  2660.0  2.0  \n",
      "267   146.0   841.0  3.0  \n",
      "268    56.0   201.0  3.0  \n",
      "269   379.0  1154.0  3.0  \n",
      "270   690.0   149.0  4.0  \n",
      "271   468.0     0.0  3.0  \n",
      "272  2643.0   511.0  2.0  \n",
      "273  1468.0   798.0  3.0  \n",
      "\n",
      "[274 rows x 11 columns]\n"
     ]
    }
   ],
   "source": [
    "print(pd.DataFrame(X_resampled))"
   ]
  },
  {
   "cell_type": "code",
   "execution_count": 85,
   "metadata": {},
   "outputs": [
    {
     "name": "stdout",
     "output_type": "stream",
     "text": [
      "[[2.34855000e+05 3.83811780e-01 2.98800000e+04 ... 2.95000000e+02\n",
      "  7.70000000e+01 3.00000000e+00]\n",
      " [2.45759000e+05 3.64584837e-01 2.13700000e+04 ... 1.39900000e+03\n",
      "  1.70000000e+02 3.00000000e+00]\n",
      " [2.52745000e+05 4.33282296e-01 1.16350000e+04 ... 3.12000000e+02\n",
      "  8.50000000e+01 3.00000000e+00]\n",
      " ...\n",
      " [8.85067000e+05 3.39178367e-01 1.15300000e+04 ... 4.68000000e+02\n",
      "  0.00000000e+00 3.00000000e+00]\n",
      " [2.98296000e+05 3.11767810e-01 2.72750000e+04 ... 2.64300000e+03\n",
      "  5.11000000e+02 2.00000000e+00]\n",
      " [3.54842000e+05 3.40088372e-01 1.38200000e+04 ... 1.46800000e+03\n",
      "  7.98000000e+02 3.00000000e+00]]\n"
     ]
    }
   ],
   "source": []
  },
  {
   "cell_type": "code",
   "execution_count": null,
   "metadata": {},
   "outputs": [],
   "source": []
  }
 ],
 "metadata": {
  "kernelspec": {
   "display_name": "Python 3",
   "language": "python",
   "name": "python3"
  },
  "language_info": {
   "codemirror_mode": {
    "name": "ipython",
    "version": 3
   },
   "file_extension": ".py",
   "mimetype": "text/x-python",
   "name": "python",
   "nbconvert_exporter": "python",
   "pygments_lexer": "ipython3",
   "version": "3.7.1"
  }
 },
 "nbformat": 4,
 "nbformat_minor": 2
}
