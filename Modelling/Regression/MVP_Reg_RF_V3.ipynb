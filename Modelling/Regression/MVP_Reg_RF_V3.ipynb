{
 "cells": [
  {
   "cell_type": "markdown",
   "metadata": {},
   "source": [
    "## Imports"
   ]
  },
  {
   "cell_type": "code",
   "execution_count": 60,
   "metadata": {},
   "outputs": [],
   "source": [
    "import numpy as np\n",
    "import pandas as pd\n",
    "from sklearn import model_selection\n",
    "from sklearn.datasets import load_iris\n",
    "from sklearn.ensemble import RandomForestClassifier\n",
    "from sklearn.linear_model import LogisticRegression\n",
    "from sklearn.preprocessing import StandardScaler\n",
    "from sklearn.model_selection import StratifiedShuffleSplit\n",
    "from pandas import DataFrame\n",
    "import pickle\n",
    "import os\n",
    "from sklearn.model_selection import train_test_split\n",
    "import matplotlib.pyplot as plt\n",
    "\n",
    "# RF\n",
    "from sklearn.model_selection import cross_val_predict, GridSearchCV, cross_val_score\n",
    "from sklearn.ensemble import RandomForestRegressor\n",
    "\n",
    "# Over-sampling for imbalance problem\n",
    "from imblearn.over_sampling import SMOTE, ADASYN\n",
    "from collections import Counter"
   ]
  },
  {
   "cell_type": "markdown",
   "metadata": {},
   "source": [
    "## Pre-process data"
   ]
  },
  {
   "cell_type": "code",
   "execution_count": 62,
   "metadata": {},
   "outputs": [
    {
     "name": "stderr",
     "output_type": "stream",
     "text": [
      "/anaconda3/lib/python3.7/site-packages/imblearn/utils/_validation.py:93: UserWarning: 'y' should be of types ('binary', 'multiclass', 'multilabel-indicator') only. Got continuous instead.\n",
      "  TARGET_KIND, type_of_target(y)))\n",
      "/anaconda3/lib/python3.7/site-packages/sklearn/utils/validation.py:724: DataConversionWarning: A column-vector y was passed when a 1d array was expected. Please change the shape of y to (n_samples, ), for example using ravel().\n",
      "  y = column_or_1d(y, warn=True)\n"
     ]
    }
   ],
   "source": [
    "os.chdir('/Users/hadi/Documents/Professional_development/DS/INSIGHT/Project/Data/Data_pro')\n",
    "raw_data=pd.read_csv('Data_All_sorted_alpha_MVP_V6.csv')\n",
    "\n",
    "#raw_data.index = raw_data.Neighbourhood\n",
    "\n",
    "Y = pd.DataFrame(raw_data['Future_change_low_income_pop'])\n",
    "Y=Y*100\n",
    "\n",
    "# Features selections\n",
    "\n",
    "# options -: All fesstures:\n",
    "# X = pd.DataFrame(raw_data[['Home price','Change in housing pricing','Low income population',\\\n",
    "#                            'Change in low income pop','Total Area','Total Population',\\\n",
    "#                            'Pop  25 - 34 years','Recent Immigrants','TTC Stops','Health Providers','Businesses',\\\n",
    "#                            'Social Housing Units','Rent Bank Applicants']])\n",
    "\n",
    "# options -2: High correlation features\n",
    "X = pd.DataFrame(raw_data[['Home price','Change in housing pricing','Low income population',\\\n",
    "                             'Change in low income pop','Total Population',\\\n",
    "                             'Pop  25 - 34 years','TTC Stops','Health Providers','Businesses',\\\n",
    "                             'Social Housing Units']])\n",
    "\n",
    "# options -3: Highest correlation features\n",
    "# X = pd.DataFrame(raw_data[['Change in low income pop',\\\n",
    "#                            'Pop  25 - 34 years','Businesses',\\\n",
    "#                            'Social Housing Units']])\n",
    "\n",
    "# Resampling for imbalance\n",
    "X_resampled, y_resampled = SMOTE().fit_resample(X, Y)\n",
    "#print(sorted(Counter(y_resampled).items()))\n",
    "\n",
    "#Split Test Train Data\n",
    "    #if original data:\n",
    "#X_train, X_test, Y_train, Y_test = train_test_split(X, Y, test_size = 0.1, random_state = 44)\n",
    "\n",
    "    #if resampled data:\n",
    "X_train, X_test, Y_train, Y_test = train_test_split(X_resampled, y_resampled, test_size = 0.1, random_state = 44)\n",
    "\n",
    "\n",
    "# #Method -2 : Stratified\n",
    "# split = StratifiedShuffleSplit(n_splits=1, test_size=.15, random_state=44) # split is to classify for stratify\n",
    "# for train_index, test_index in split.split(raw_data, raw_data[['Label']]):  # column to use to stratify\n",
    "#     X_train = X.loc[train_index]\n",
    "#     X_test = X.loc[test_index]\n",
    "#     Y_train = Y.loc[train_index]\n",
    "#     Y_test = Y.loc[test_index]\n",
    "\n",
    "#Standardize the Data:\n",
    "#X_train = pd.DataFrame(StandardScaler().fit_transform(X_train)) \n",
    "#X_test = pd.DataFrame(StandardScaler().fit_transform(X_test))"
   ]
  },
  {
   "cell_type": "markdown",
   "metadata": {},
   "source": [
    "## Modeling"
   ]
  },
  {
   "cell_type": "code",
   "execution_count": 63,
   "metadata": {},
   "outputs": [
    {
     "name": "stderr",
     "output_type": "stream",
     "text": [
      "/anaconda3/lib/python3.7/site-packages/sklearn/model_selection/_search.py:813: DeprecationWarning: The default of the `iid` parameter will change from True to False in version 0.22 and will be removed in 0.24. This will change numeric results when test-set sizes are unequal.\n",
      "  DeprecationWarning)\n"
     ]
    },
    {
     "name": "stdout",
     "output_type": "stream",
     "text": [
      "[ -4.44770092  -7.66366994  -5.84644011  -7.23866293  -8.87909061\n",
      " -10.45541361  -5.88257994  -8.91462879  -4.85683763  -5.89993552]\n"
     ]
    }
   ],
   "source": [
    "# Random Forest Modelling \n",
    "\n",
    "gsc = GridSearchCV(\n",
    "    estimator=RandomForestRegressor(),\n",
    "    param_grid={\n",
    "        'max_depth': range(4,8,14),\n",
    "        'n_estimators': (10, 50, 100),\n",
    "    }, cv=10, scoring='neg_mean_squared_error', verbose=0, n_jobs=-1)\n",
    "\n",
    "grid_result = gsc.fit(X_train, Y_train)\n",
    "best_params = grid_result.best_params_\n",
    "rfr = RandomForestRegressor(max_depth=best_params[\"max_depth\"], n_estimators=best_params[\"n_estimators\"], random_state=False, verbose=False)\n",
    "scores = cross_val_score(rfr, X_train, Y_train, cv=10, scoring='neg_mean_absolute_error')\n",
    "print(scores)\n",
    "model_RF=rfr.fit(X_train, Y_train)\n",
    "\n",
    "# save the model to disk\n",
    "predictive_Reg_model_RF = 'finalized_Reg_model_RF.sav'\n",
    "pickle.dump(rfr, open(predictive_Reg_model_RF, 'wb'))"
   ]
  },
  {
   "cell_type": "markdown",
   "metadata": {},
   "source": [
    "## Predictions"
   ]
  },
  {
   "cell_type": "code",
   "execution_count": 64,
   "metadata": {},
   "outputs": [
    {
     "name": "stdout",
     "output_type": "stream",
     "text": [
      "Error : in 7.845322840534893\n",
      "RMS =13.510920865305723\n",
      "R-Squared-TRAIN =0.64\n",
      "R-Squared-TEST =0.73\n"
     ]
    }
   ],
   "source": [
    "from sklearn import metrics\n",
    "from sklearn.metrics import mean_squared_error\n",
    "\n",
    "# load the model from disk\n",
    "loaded_model = pickle.load(open('finalized_Reg_model_RF.sav', 'rb'))\n",
    "y_pred_RF= loaded_model.predict(X_test)\n",
    "\n",
    "y_pred_RF= loaded_model.predict(X_test)\n",
    "y_pred_train_RF=loaded_model.predict(X_train)\n",
    "\n",
    "Error = np.abs(Y_test - y_pred_RF)#/np.abs(Y_test)\n",
    "print(\"Error : in \"+str(np.mean(Error)))\n",
    "\n",
    "rms_RFR = np.sqrt(mean_squared_error(Y_test, y_pred_RF))\n",
    "print(\"RMS =\"+str(rms_RFR))\n",
    "\n",
    "rr_TRAIN = metrics.r2_score(Y_train, y_pred_train_RF)\n",
    "rr_TRAIN = round(rr_TRAIN,2)\n",
    "print(\"R-Squared-TRAIN =\"+str(rr_TRAIN))\n",
    "\n",
    "rr_TEST = metrics.r2_score(Y_test, y_pred_RF)\n",
    "rr_TEST = round(rr_TEST,2)\n",
    "print(\"R-Squared-TEST =\"+str(rr_TEST))"
   ]
  },
  {
   "cell_type": "markdown",
   "metadata": {},
   "source": [
    "## Visualisation"
   ]
  },
  {
   "cell_type": "code",
   "execution_count": 59,
   "metadata": {},
   "outputs": [
    {
     "data": {
      "image/png": "[encoded data removed]",
      "text/plain": [
       "<Figure size 432x288 with 1 Axes>"
      ]
     },
     "metadata": {
      "needs_background": "light"
     },
     "output_type": "display_data"
    },
    {
     "data": {
      "image/png": "[encoded data removed]",
      "text/plain": [
       "<Figure size 432x288 with 1 Axes>"
      ]
     },
     "metadata": {
      "needs_background": "light"
     },
     "output_type": "display_data"
    },
    {
     "data": {
      "image/png": "[encoded data removed]",
      "text/plain": [
       "<Figure size 432x288 with 1 Axes>"
      ]
     },
     "metadata": {
      "needs_background": "light"
     },
     "output_type": "display_data"
    }
   ],
   "source": [
    "## The line / model\n",
    "plt.scatter(Y_train, y_pred_train_RF)\n",
    "plt.xlabel(\"True Values\")\n",
    "plt.ylabel(\"Predictions\")\n",
    "plt.savefig('testplot.png')\n",
    "plt.show()\n",
    "\n",
    "plt.scatter(Y_test, y_pred_RF)\n",
    "plt.xlabel(\"True Values\")\n",
    "plt.ylabel(\"Predictions\")\n",
    "plt.savefig('testplot.png')\n",
    "plt.show()\n",
    "\n",
    "y_pred_RF_4plt = pd.DataFrame(y_pred_RF.tolist())\n",
    "y_pred_RF_4plt.columns = ['Future_change_low_income_pop']\n",
    "\n",
    "y_test_4plt = pd.DataFrame(Y_test.tolist())\n",
    "#df['Future_change_low_income_pop'] = pd.DataFrame(y_pred_lm)\n",
    "y_test_4plt.columns = ['Future_change_low_income_pop']\n",
    "\n",
    "Data_list=['Data','Data','Data','Data','Data','Data','Data','Data','Data','Data','Data','Data','Data'\\\n",
    "      ,'Data','Data','Data','Data','Data','Data','Data','Data','Data','Data','Data','Data','Data'\\\n",
    "          ,'Data','Data']\n",
    "Coparison=['True','Predicated']\n",
    "pos = np.arange(len(Data_list))\n",
    "bar_width = 0.5\n",
    "PredictoinValues=y_pred_RF_4plt['Future_change_low_income_pop'] #[60,40,70,65,85,90,40,70,65,85,90,40,70,65,85,90,40,70,65,85,90,40,70,65,85,90,100,100]\n",
    "TestValues=y_test_4plt['Future_change_low_income_pop'] #[30,60,70,55,75,90,60,70,55,75,90,60,70,55,75,90,60,70,55,75,90,60,70,55,75,90,20,33]\n",
    "\n",
    "\n",
    "plt.bar(pos,PredictoinValues,bar_width,color='blue',edgecolor='black')\n",
    "plt.bar(pos+bar_width,TestValues,bar_width,color='pink',edgecolor='black')\n",
    "plt.xlabel('Tested Data', fontsize=12)\n",
    "plt.ylabel('Low income population change', fontsize=12)\n",
    "plt.title('Comaprison between true and predicated value',fontsize=14)\n",
    "plt.legend(Coparison,loc=2)\n",
    "plt.show()\n"
   ]
  },
  {
   "cell_type": "code",
   "execution_count": 32,
   "metadata": {},
   "outputs": [
    {
     "data": {
      "text/plain": [
       "{'max_depth': 4, 'n_estimators': 50}"
      ]
     },
     "execution_count": 32,
     "metadata": {},
     "output_type": "execute_result"
    }
   ],
   "source": [
    "best_params"
   ]
  },
  {
   "cell_type": "markdown",
   "metadata": {},
   "source": [
    "## Plot Train and Test Data Together"
   ]
  },
  {
   "cell_type": "code",
   "execution_count": 86,
   "metadata": {},
   "outputs": [
    {
     "data": {
      "text/plain": [
       "Text(0.5, 1.0, 'Predicted Vs. Actual')"
      ]
     },
     "execution_count": 86,
     "metadata": {},
     "output_type": "execute_result"
    },
    {
     "data": {
      "image/png": "[encoded data removed]",
      "text/plain": [
       "<Figure size 432x288 with 1 Axes>"
      ]
     },
     "metadata": {
      "needs_background": "light"
     },
     "output_type": "display_data"
    }
   ],
   "source": [
    "color = (\"blue\", \"yellow\")\n",
    "\n",
    "plt.scatter(Y_train, y_pred_train_RF, label=\"Train\")\n",
    "plt.xlabel(\"True Values\")\n",
    "plt.ylabel(\"Predictions\")\n",
    "plt.savefig('testplot.png')\n",
    "\n",
    "plt.scatter(Y_test, y_pred_RF, label=\"Test\")\n",
    "plt.xlabel(\"True Values\")\n",
    "plt.ylabel(\"Predictions\")\n",
    "plt.savefig('testplot.png')\n",
    "plt.legend(loc=2)\n",
    "plt.title('Predicted Vs. Actual')"
   ]
  },
  {
   "cell_type": "code",
   "execution_count": 75,
   "metadata": {},
   "outputs": [
    {
     "data": {
      "text/plain": [
       "array([0.04778754, 0.04121307, 0.01403957, 0.4308521 , 0.01850153,\n",
       "       0.04194428, 0.03425305, 0.02018986, 0.24822247, 0.10299654])"
      ]
     },
     "execution_count": 75,
     "metadata": {},
     "output_type": "execute_result"
    }
   ],
   "source": [
    "model_RF.feature_importances_"
   ]
  },
  {
   "cell_type": "code",
   "execution_count": null,
   "metadata": {},
   "outputs": [],
   "source": []
  }
 ],
 "metadata": {
  "kernelspec": {
   "display_name": "Python 3",
   "language": "python",
   "name": "python3"
  },
  "language_info": {
   "codemirror_mode": {
    "name": "ipython",
    "version": 3
   },
   "file_extension": ".py",
   "mimetype": "text/x-python",
   "name": "python",
   "nbconvert_exporter": "python",
   "pygments_lexer": "ipython3",
   "version": "3.7.1"
  }
 },
 "nbformat": 4,
 "nbformat_minor": 2
}
